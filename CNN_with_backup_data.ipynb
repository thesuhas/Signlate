{
  "nbformat": 4,
  "nbformat_minor": 0,
  "metadata": {
    "kernelspec": {
      "display_name": "Python 3",
      "language": "python",
      "name": "python3"
    },
    "language_info": {
      "codemirror_mode": {
        "name": "ipython",
        "version": 3
      },
      "file_extension": ".py",
      "mimetype": "text/x-python",
      "name": "python",
      "nbconvert_exporter": "python",
      "pygments_lexer": "ipython3",
      "version": "3.8.5"
    },
    "colab": {
      "name": "CNN_with_backup_data.ipynb",
      "provenance": [],
      "collapsed_sections": [],
      "toc_visible": true,
      "include_colab_link": true
    },
    "accelerator": "GPU"
  },
  "cells": [
    {
      "cell_type": "markdown",
      "metadata": {
        "id": "view-in-github",
        "colab_type": "text"
      },
      "source": [
        "<a href=\"https://colab.research.google.com/github/thesuhas/Signlate/blob/main/CNN_with_backup_data.ipynb\" target=\"_parent\"><img src=\"https://colab.research.google.com/assets/colab-badge.svg\" alt=\"Open In Colab\"/></a>"
      ]
    },
    {
      "cell_type": "code",
      "metadata": {
        "id": "ASogm2RRoGfV"
      },
      "source": [
        "import pandas as pd\n",
        "import numpy as np\n",
        "import cv2\n",
        "import tensorflow as tf\n",
        "from tensorflow import keras\n",
        "from tensorflow.keras import layers\n",
        "from tensorflow.keras.models import Sequential\n",
        "from tensorflow.keras.preprocessing import image_dataset_from_directory\n",
        "import matplotlib.pyplot as plt\n",
        "from matplotlib.pyplot import imshow\n",
        "from sklearn.model_selection import train_test_split\n",
        "import os"
      ],
      "execution_count": 68,
      "outputs": []
    },
    {
      "cell_type": "code",
      "metadata": {
        "colab": {
          "base_uri": "https://localhost:8080/"
        },
        "id": "NCWbz1lZx0-u",
        "outputId": "8e6777a6-c72f-4d77-a49b-068a41dff6f9"
      },
      "source": [
        "from google.colab import drive\r\n",
        "drive.mount('/content/drive')"
      ],
      "execution_count": 38,
      "outputs": [
        {
          "output_type": "stream",
          "text": [
            "Drive already mounted at /content/drive; to attempt to forcibly remount, call drive.mount(\"/content/drive\", force_remount=True).\n"
          ],
          "name": "stdout"
        }
      ]
    },
    {
      "cell_type": "code",
      "metadata": {
        "id": "YNM2uIdNoGfg"
      },
      "source": [
        "#training_set_path = \"//Users//divyashekar//Documents//archive//asl_alphabet_train//asl_alphabet_train\"\n",
        "#testing_set_path = \"/Users/divyashekar/Documents/Signlate/archive/asl_alphabet_test/asl_alphabet_test\""
      ],
      "execution_count": null,
      "outputs": []
    },
    {
      "cell_type": "code",
      "metadata": {
        "id": "JDuOvgkJoGfh"
      },
      "source": [
        "IMAGE_SIZE = 100\n",
        "num_classes = 36\n",
        "epochs = 100\n",
        "initializer = 'he_normal'"
      ],
      "execution_count": 40,
      "outputs": []
    },
    {
      "cell_type": "code",
      "metadata": {
        "id": "-5rmY7KuoGfi"
      },
      "source": [
        "def label(folder_name):\n",
        "    num = folder_name\n",
        "    if '0' in num:\n",
        "        return 0\n",
        "    elif '1' in num:\n",
        "        return 1 \n",
        "    elif '2' in num:\n",
        "        return 2\n",
        "    elif '3' in num:\n",
        "        return 3\n",
        "    elif '4' in num:\n",
        "        return 4\n",
        "    elif '5' in num:\n",
        "        return 5\n",
        "    elif '6' in num:\n",
        "        return 6\n",
        "    elif '7' in num:\n",
        "        return 7\n",
        "    elif '8' in num:\n",
        "        return 8\n",
        "    elif '9' in num:\n",
        "        return 9\n",
        "    elif 'a' in num:\n",
        "        return 10\n",
        "    elif 'b' in num:\n",
        "        return 11\n",
        "    elif 'c' in num:\n",
        "        return 12\n",
        "    elif 'd' in num:\n",
        "        return 13\n",
        "    elif 'e' in num:\n",
        "        return 14\n",
        "    elif 'f' in num:\n",
        "        return 15\n",
        "    elif 'g' in num:\n",
        "        return 16\n",
        "    elif 'h' in num:\n",
        "        return 17\n",
        "    elif 'i' in num:\n",
        "        return 18\n",
        "    elif 'j' in num:\n",
        "        return 19\n",
        "    elif 'k' in num:\n",
        "        return 20\n",
        "    elif 'l' in num:\n",
        "        return 21\n",
        "    elif 'm' in num:\n",
        "        return 22\n",
        "    elif 'n' in num:\n",
        "        return 23\n",
        "    elif 'o' in num:\n",
        "        return 24\n",
        "    elif 'p' in num:\n",
        "        return 25\n",
        "    elif 'q' in num:\n",
        "        return 26\n",
        "    elif 'r' in num:\n",
        "        return 27\n",
        "    elif 's' in num:\n",
        "        return 28\n",
        "    elif 't' in num:\n",
        "        return 29\n",
        "    elif 'u' in num:\n",
        "        return 30\n",
        "    elif 'v' in num:\n",
        "        return 31\n",
        "    elif 'w' in num:\n",
        "        return 32\n",
        "    elif 'x' in num:\n",
        "        return 33\n",
        "    elif 'y' in num:\n",
        "        return 34\n",
        "    elif 'z' in num:\n",
        "        return 35"
      ],
      "execution_count": 41,
      "outputs": []
    },
    {
      "cell_type": "code",
      "metadata": {
        "id": "awTWxdFFzDLw"
      },
      "source": [
        "smol_dataset_path = \"/content/drive/MyDrive/Colab Notebooks/asl_dataset\""
      ],
      "execution_count": 42,
      "outputs": []
    },
    {
      "cell_type": "code",
      "metadata": {
        "colab": {
          "base_uri": "https://localhost:8080/"
        },
        "id": "6FYluBw30D-0",
        "outputId": "6220d666-60d6-42e2-c5bf-156b89f8401a"
      },
      "source": [
        "#dataset = image_dataset_from_directory(smol_dataset_path, labels='inferred', label_mode='int', image_size=[100, 100], interpolation='nearest', batch_size=64, shuffle=False)"
      ],
      "execution_count": 7,
      "outputs": [
        {
          "output_type": "stream",
          "text": [
            "Found 2515 files belonging to 36 classes.\n"
          ],
          "name": "stdout"
        }
      ]
    },
    {
      "cell_type": "markdown",
      "metadata": {
        "id": "pJzP4mJzoGfj"
      },
      "source": [
        "CREATING DATASET"
      ]
    },
    {
      "cell_type": "code",
      "metadata": {
        "id": "_9LGPK1hoGfj"
      },
      "source": [
        "def create_dataset(path):\n",
        "    data = []\n",
        "    for folder in os.scandir(path):\n",
        "        if(os.path.isdir(folder.path)):\n",
        "            for image in os.scandir(os.path.join(path, folder)):\n",
        "                letter_label = label(folder.name)\n",
        "                if (letter_label == None):\n",
        "                    print(folder.name)\n",
        "                    break\n",
        "                img = cv2.imread(os.path.join(path, folder, image))\n",
        "\n",
        "                # Resize\n",
        "                new = cv2.resize(img, (IMAGE_SIZE, IMAGE_SIZE))\n",
        "                data.append([new, letter_label])\n",
        "    return data"
      ],
      "execution_count": 43,
      "outputs": []
    },
    {
      "cell_type": "code",
      "metadata": {
        "id": "IG-AlNPQoGfk"
      },
      "source": [
        "data = create_dataset(smol_dataset_path)"
      ],
      "execution_count": 44,
      "outputs": []
    },
    {
      "cell_type": "code",
      "metadata": {
        "id": "HF8sxXBhoGfl",
        "colab": {
          "base_uri": "https://localhost:8080/"
        },
        "outputId": "eccdd1ce-3d4c-4638-f17a-9fedbceadd60"
      },
      "source": [
        "X = np.array([d[0] for d in data])\n",
        "len(X)"
      ],
      "execution_count": 45,
      "outputs": [
        {
          "output_type": "execute_result",
          "data": {
            "text/plain": [
              "2515"
            ]
          },
          "metadata": {
            "tags": []
          },
          "execution_count": 45
        }
      ]
    },
    {
      "cell_type": "code",
      "metadata": {
        "id": "fC5VtOSIoGfm",
        "colab": {
          "base_uri": "https://localhost:8080/"
        },
        "outputId": "466d8b02-3b53-48ba-88f7-38d6ad79bbcd"
      },
      "source": [
        "X = np.divide(X, 255)\n",
        "len(X)\n",
        "X.shape"
      ],
      "execution_count": 46,
      "outputs": [
        {
          "output_type": "execute_result",
          "data": {
            "text/plain": [
              "(2515, 100, 100, 3)"
            ]
          },
          "metadata": {
            "tags": []
          },
          "execution_count": 46
        }
      ]
    },
    {
      "cell_type": "code",
      "metadata": {
        "id": "K7drpUAWoGfn",
        "colab": {
          "base_uri": "https://localhost:8080/"
        },
        "outputId": "48bc2cb8-e3cc-4348-c589-338592b243a1"
      },
      "source": [
        "y = np.array([d[1] for d in data])\n",
        "len(y)"
      ],
      "execution_count": 47,
      "outputs": [
        {
          "output_type": "execute_result",
          "data": {
            "text/plain": [
              "2515"
            ]
          },
          "metadata": {
            "tags": []
          },
          "execution_count": 47
        }
      ]
    },
    {
      "cell_type": "code",
      "metadata": {
        "id": "1RkYoqNxoGfo"
      },
      "source": [
        "X_train, X_test, y_train, y_test = train_test_split(X, y, random_state = 1, stratify=y)\n",
        "X_train, X_val, y_train, y_val = train_test_split(X_train, y_train, random_state = 1, stratify=y_train)"
      ],
      "execution_count": 49,
      "outputs": []
    },
    {
      "cell_type": "markdown",
      "metadata": {
        "id": "hf86NiWDoGfo"
      },
      "source": [
        "CNN MODEL"
      ]
    },
    {
      "cell_type": "code",
      "metadata": {
        "id": "mc37p8gyoGfp"
      },
      "source": [
        "model = Sequential([\n",
        "    layers.InputLayer(input_shape=(IMAGE_SIZE, IMAGE_SIZE, 3)),\n",
        "    layers.Conv2D(16, 3, padding='same', activation='relu', kernel_initializer=initializer),\n",
        "    layers.MaxPool2D(),\n",
        "    layers.BatchNormalization(),\n",
        "    # Dropout layer for regularisation\n",
        "    layers.Dropout(rate=0.5),\n",
        "    layers.Conv2D(32, 3, padding='same', activation='relu', kernel_initializer=initializer),\n",
        "    layers.MaxPool2D(),\n",
        "    layers.BatchNormalization(),\n",
        "    # Dropout layer for regularisation\n",
        "    layers.Dropout(rate=0.5),\n",
        "    layers.Conv2D(64, 5, padding='same', activation='relu', kernel_initializer=initializer),\n",
        "    layers.MaxPool2D(),\n",
        "    layers.BatchNormalization(),\n",
        "    # Dropout layer for regularisation\n",
        "    layers.Dropout(rate=0.5),\n",
        "    # Flattening output to connect to Densely Connected Layers\n",
        "    layers.Flatten(),\n",
        "    layers.Dense(128, activation='relu', kernel_initializer=initializer),\n",
        "    layers.BatchNormalization(),\n",
        "    layers.Dense(num_classes, activation='softmax', kernel_initializer=initializer)\n",
        "]) "
      ],
      "execution_count": 51,
      "outputs": []
    },
    {
      "cell_type": "code",
      "metadata": {
        "id": "c2xWuPShoGfq"
      },
      "source": [
        "model.compile(optimizer='adam', loss=tf.keras.losses.SparseCategoricalCrossentropy(from_logits=True), metrics=['accuracy'])"
      ],
      "execution_count": 54,
      "outputs": []
    },
    {
      "cell_type": "code",
      "metadata": {
        "colab": {
          "base_uri": "https://localhost:8080/"
        },
        "id": "_LP_pNmTEDgu",
        "outputId": "b4474797-b19f-4761-ad20-5eee7c6eba55"
      },
      "source": [
        "X_train.shape"
      ],
      "execution_count": 55,
      "outputs": [
        {
          "output_type": "execute_result",
          "data": {
            "text/plain": [
              "(1414, 100, 100, 3)"
            ]
          },
          "metadata": {
            "tags": []
          },
          "execution_count": 55
        }
      ]
    },
    {
      "cell_type": "code",
      "metadata": {
        "colab": {
          "base_uri": "https://localhost:8080/"
        },
        "id": "Z54i0CS3EV7w",
        "outputId": "126a8100-96d1-481f-d91b-be433c38d52c"
      },
      "source": [
        "model.summary()"
      ],
      "execution_count": 56,
      "outputs": [
        {
          "output_type": "stream",
          "text": [
            "Model: \"sequential_1\"\n",
            "_________________________________________________________________\n",
            "Layer (type)                 Output Shape              Param #   \n",
            "=================================================================\n",
            "conv2d_3 (Conv2D)            (None, 100, 100, 16)      448       \n",
            "_________________________________________________________________\n",
            "max_pooling2d_3 (MaxPooling2 (None, 50, 50, 16)        0         \n",
            "_________________________________________________________________\n",
            "batch_normalization_4 (Batch (None, 50, 50, 16)        64        \n",
            "_________________________________________________________________\n",
            "dropout_3 (Dropout)          (None, 50, 50, 16)        0         \n",
            "_________________________________________________________________\n",
            "conv2d_4 (Conv2D)            (None, 50, 50, 32)        4640      \n",
            "_________________________________________________________________\n",
            "max_pooling2d_4 (MaxPooling2 (None, 25, 25, 32)        0         \n",
            "_________________________________________________________________\n",
            "batch_normalization_5 (Batch (None, 25, 25, 32)        128       \n",
            "_________________________________________________________________\n",
            "dropout_4 (Dropout)          (None, 25, 25, 32)        0         \n",
            "_________________________________________________________________\n",
            "conv2d_5 (Conv2D)            (None, 25, 25, 64)        51264     \n",
            "_________________________________________________________________\n",
            "max_pooling2d_5 (MaxPooling2 (None, 12, 12, 64)        0         \n",
            "_________________________________________________________________\n",
            "batch_normalization_6 (Batch (None, 12, 12, 64)        256       \n",
            "_________________________________________________________________\n",
            "dropout_5 (Dropout)          (None, 12, 12, 64)        0         \n",
            "_________________________________________________________________\n",
            "flatten_1 (Flatten)          (None, 9216)              0         \n",
            "_________________________________________________________________\n",
            "dense_2 (Dense)              (None, 128)               1179776   \n",
            "_________________________________________________________________\n",
            "batch_normalization_7 (Batch (None, 128)               512       \n",
            "_________________________________________________________________\n",
            "dense_3 (Dense)              (None, 36)                4644      \n",
            "=================================================================\n",
            "Total params: 1,241,732\n",
            "Trainable params: 1,241,252\n",
            "Non-trainable params: 480\n",
            "_________________________________________________________________\n"
          ],
          "name": "stdout"
        }
      ]
    },
    {
      "cell_type": "code",
      "metadata": {
        "id": "nkndsJ8bEWvj"
      },
      "source": [
        "callback = tf.keras.callbacks.EarlyStopping(monitor='loss', patience=20)"
      ],
      "execution_count": 57,
      "outputs": []
    },
    {
      "cell_type": "code",
      "metadata": {
        "colab": {
          "base_uri": "https://localhost:8080/"
        },
        "id": "4TW-t4WzEb6Y",
        "outputId": "b702f8b2-5440-4e87-df63-cf6574582da4"
      },
      "source": [
        "history = model.fit(x=X_train, y=y_train, epochs=epochs, validation_data = (X_val, y_val), use_multiprocessing = True, batch_size=32, callbacks=[callback])"
      ],
      "execution_count": 58,
      "outputs": [
        {
          "output_type": "stream",
          "text": [
            "Epoch 1/100\n",
            "45/45 [==============================] - 1s 16ms/step - loss: 2.6448 - accuracy: 0.3429 - val_loss: 1.9935 - val_accuracy: 0.4809\n",
            "Epoch 2/100\n",
            "45/45 [==============================] - 0s 10ms/step - loss: 0.7226 - accuracy: 0.7997 - val_loss: 2.6614 - val_accuracy: 0.3581\n",
            "Epoch 3/100\n",
            "45/45 [==============================] - 0s 10ms/step - loss: 0.4807 - accuracy: 0.8491 - val_loss: 2.5476 - val_accuracy: 0.4258\n",
            "Epoch 4/100\n",
            "45/45 [==============================] - 0s 10ms/step - loss: 0.3341 - accuracy: 0.9077 - val_loss: 2.6143 - val_accuracy: 0.4089\n",
            "Epoch 5/100\n",
            "45/45 [==============================] - 0s 10ms/step - loss: 0.3035 - accuracy: 0.9040 - val_loss: 2.7039 - val_accuracy: 0.3771\n",
            "Epoch 6/100\n",
            "45/45 [==============================] - 0s 10ms/step - loss: 0.2136 - accuracy: 0.9463 - val_loss: 2.4971 - val_accuracy: 0.4492\n",
            "Epoch 7/100\n",
            "45/45 [==============================] - 0s 10ms/step - loss: 0.1717 - accuracy: 0.9577 - val_loss: 2.1773 - val_accuracy: 0.4640\n",
            "Epoch 8/100\n",
            "45/45 [==============================] - 0s 10ms/step - loss: 0.1600 - accuracy: 0.9501 - val_loss: 1.7444 - val_accuracy: 0.5530\n",
            "Epoch 9/100\n",
            "45/45 [==============================] - 0s 10ms/step - loss: 0.1469 - accuracy: 0.9570 - val_loss: 1.5665 - val_accuracy: 0.5890\n",
            "Epoch 10/100\n",
            "45/45 [==============================] - 0s 10ms/step - loss: 0.1073 - accuracy: 0.9677 - val_loss: 1.2824 - val_accuracy: 0.6780\n",
            "Epoch 11/100\n",
            "45/45 [==============================] - 0s 11ms/step - loss: 0.0947 - accuracy: 0.9751 - val_loss: 1.0092 - val_accuracy: 0.7097\n",
            "Epoch 12/100\n",
            "45/45 [==============================] - 0s 10ms/step - loss: 0.0948 - accuracy: 0.9723 - val_loss: 0.6946 - val_accuracy: 0.7966\n",
            "Epoch 13/100\n",
            "45/45 [==============================] - 0s 10ms/step - loss: 0.0771 - accuracy: 0.9768 - val_loss: 0.5710 - val_accuracy: 0.8390\n",
            "Epoch 14/100\n",
            "45/45 [==============================] - 0s 10ms/step - loss: 0.0703 - accuracy: 0.9855 - val_loss: 0.4379 - val_accuracy: 0.8729\n",
            "Epoch 15/100\n",
            "45/45 [==============================] - 0s 10ms/step - loss: 0.0636 - accuracy: 0.9872 - val_loss: 0.3881 - val_accuracy: 0.8771\n",
            "Epoch 16/100\n",
            "45/45 [==============================] - 0s 10ms/step - loss: 0.0598 - accuracy: 0.9838 - val_loss: 0.2785 - val_accuracy: 0.9174\n",
            "Epoch 17/100\n",
            "45/45 [==============================] - 0s 10ms/step - loss: 0.0538 - accuracy: 0.9858 - val_loss: 0.2265 - val_accuracy: 0.9301\n",
            "Epoch 18/100\n",
            "45/45 [==============================] - 0s 10ms/step - loss: 0.0540 - accuracy: 0.9885 - val_loss: 0.2357 - val_accuracy: 0.9216\n",
            "Epoch 19/100\n",
            "45/45 [==============================] - 0s 10ms/step - loss: 0.0468 - accuracy: 0.9892 - val_loss: 0.2137 - val_accuracy: 0.9322\n",
            "Epoch 20/100\n",
            "45/45 [==============================] - 0s 11ms/step - loss: 0.0529 - accuracy: 0.9844 - val_loss: 0.2599 - val_accuracy: 0.9195\n",
            "Epoch 21/100\n",
            "45/45 [==============================] - 0s 10ms/step - loss: 0.0383 - accuracy: 0.9933 - val_loss: 0.2544 - val_accuracy: 0.9174\n",
            "Epoch 22/100\n",
            "45/45 [==============================] - 0s 10ms/step - loss: 0.0484 - accuracy: 0.9856 - val_loss: 0.2359 - val_accuracy: 0.9195\n",
            "Epoch 23/100\n",
            "45/45 [==============================] - 0s 10ms/step - loss: 0.0454 - accuracy: 0.9854 - val_loss: 0.2006 - val_accuracy: 0.9343\n",
            "Epoch 24/100\n",
            "45/45 [==============================] - 0s 11ms/step - loss: 0.0253 - accuracy: 0.9954 - val_loss: 0.2347 - val_accuracy: 0.9280\n",
            "Epoch 25/100\n",
            "45/45 [==============================] - 0s 10ms/step - loss: 0.0469 - accuracy: 0.9881 - val_loss: 0.2423 - val_accuracy: 0.9237\n",
            "Epoch 26/100\n",
            "45/45 [==============================] - 0s 10ms/step - loss: 0.0533 - accuracy: 0.9869 - val_loss: 0.2146 - val_accuracy: 0.9301\n",
            "Epoch 27/100\n",
            "45/45 [==============================] - 0s 10ms/step - loss: 0.0439 - accuracy: 0.9883 - val_loss: 0.2029 - val_accuracy: 0.9343\n",
            "Epoch 28/100\n",
            "45/45 [==============================] - 0s 10ms/step - loss: 0.0247 - accuracy: 0.9958 - val_loss: 0.1863 - val_accuracy: 0.9407\n",
            "Epoch 29/100\n",
            "45/45 [==============================] - 0s 10ms/step - loss: 0.0327 - accuracy: 0.9874 - val_loss: 0.1770 - val_accuracy: 0.9386\n",
            "Epoch 30/100\n",
            "45/45 [==============================] - 0s 10ms/step - loss: 0.0354 - accuracy: 0.9900 - val_loss: 0.1596 - val_accuracy: 0.9428\n",
            "Epoch 31/100\n",
            "45/45 [==============================] - 0s 10ms/step - loss: 0.0246 - accuracy: 0.9951 - val_loss: 0.1893 - val_accuracy: 0.9364\n",
            "Epoch 32/100\n",
            "45/45 [==============================] - 0s 11ms/step - loss: 0.0276 - accuracy: 0.9945 - val_loss: 0.1931 - val_accuracy: 0.9386\n",
            "Epoch 33/100\n",
            "45/45 [==============================] - 0s 11ms/step - loss: 0.0339 - accuracy: 0.9931 - val_loss: 0.1748 - val_accuracy: 0.9492\n",
            "Epoch 34/100\n",
            "45/45 [==============================] - 0s 11ms/step - loss: 0.0222 - accuracy: 0.9953 - val_loss: 0.1742 - val_accuracy: 0.9449\n",
            "Epoch 35/100\n",
            "45/45 [==============================] - 0s 10ms/step - loss: 0.0219 - accuracy: 0.9956 - val_loss: 0.1663 - val_accuracy: 0.9449\n",
            "Epoch 36/100\n",
            "45/45 [==============================] - 0s 11ms/step - loss: 0.0170 - accuracy: 0.9956 - val_loss: 0.2169 - val_accuracy: 0.9322\n",
            "Epoch 37/100\n",
            "45/45 [==============================] - 0s 11ms/step - loss: 0.0154 - accuracy: 0.9959 - val_loss: 0.1783 - val_accuracy: 0.9470\n",
            "Epoch 38/100\n",
            "45/45 [==============================] - 0s 10ms/step - loss: 0.0196 - accuracy: 0.9939 - val_loss: 0.1712 - val_accuracy: 0.9492\n",
            "Epoch 39/100\n",
            "45/45 [==============================] - 0s 11ms/step - loss: 0.0140 - accuracy: 0.9984 - val_loss: 0.1500 - val_accuracy: 0.9576\n",
            "Epoch 40/100\n",
            "45/45 [==============================] - 0s 11ms/step - loss: 0.0303 - accuracy: 0.9904 - val_loss: 0.1882 - val_accuracy: 0.9428\n",
            "Epoch 41/100\n",
            "45/45 [==============================] - 0s 11ms/step - loss: 0.0232 - accuracy: 0.9906 - val_loss: 0.2015 - val_accuracy: 0.9470\n",
            "Epoch 42/100\n",
            "45/45 [==============================] - 0s 10ms/step - loss: 0.0164 - accuracy: 0.9956 - val_loss: 0.1830 - val_accuracy: 0.9492\n",
            "Epoch 43/100\n",
            "45/45 [==============================] - 0s 10ms/step - loss: 0.0128 - accuracy: 0.9967 - val_loss: 0.1564 - val_accuracy: 0.9576\n",
            "Epoch 44/100\n",
            "45/45 [==============================] - 0s 11ms/step - loss: 0.0176 - accuracy: 0.9931 - val_loss: 0.1621 - val_accuracy: 0.9534\n",
            "Epoch 45/100\n",
            "45/45 [==============================] - 0s 10ms/step - loss: 0.0065 - accuracy: 1.0000 - val_loss: 0.1382 - val_accuracy: 0.9555\n",
            "Epoch 46/100\n",
            "45/45 [==============================] - 0s 10ms/step - loss: 0.0096 - accuracy: 0.9981 - val_loss: 0.1769 - val_accuracy: 0.9534\n",
            "Epoch 47/100\n",
            "45/45 [==============================] - 0s 10ms/step - loss: 0.0070 - accuracy: 0.9999 - val_loss: 0.1422 - val_accuracy: 0.9597\n",
            "Epoch 48/100\n",
            "45/45 [==============================] - 0s 10ms/step - loss: 0.0132 - accuracy: 0.9955 - val_loss: 0.1607 - val_accuracy: 0.9576\n",
            "Epoch 49/100\n",
            "45/45 [==============================] - 0s 10ms/step - loss: 0.0344 - accuracy: 0.9894 - val_loss: 0.1964 - val_accuracy: 0.9470\n",
            "Epoch 50/100\n",
            "45/45 [==============================] - 0s 10ms/step - loss: 0.0340 - accuracy: 0.9882 - val_loss: 0.1935 - val_accuracy: 0.9470\n",
            "Epoch 51/100\n",
            "45/45 [==============================] - 0s 11ms/step - loss: 0.0342 - accuracy: 0.9867 - val_loss: 0.1945 - val_accuracy: 0.9470\n",
            "Epoch 52/100\n",
            "45/45 [==============================] - 0s 11ms/step - loss: 0.0206 - accuracy: 0.9959 - val_loss: 0.1746 - val_accuracy: 0.9513\n",
            "Epoch 53/100\n",
            "45/45 [==============================] - 0s 11ms/step - loss: 0.0231 - accuracy: 0.9923 - val_loss: 0.1475 - val_accuracy: 0.9597\n",
            "Epoch 54/100\n",
            "45/45 [==============================] - 0s 10ms/step - loss: 0.0183 - accuracy: 0.9970 - val_loss: 0.1332 - val_accuracy: 0.9619\n",
            "Epoch 55/100\n",
            "45/45 [==============================] - 0s 10ms/step - loss: 0.0171 - accuracy: 0.9949 - val_loss: 0.1345 - val_accuracy: 0.9597\n",
            "Epoch 56/100\n",
            "45/45 [==============================] - 0s 11ms/step - loss: 0.0152 - accuracy: 0.9972 - val_loss: 0.1196 - val_accuracy: 0.9640\n",
            "Epoch 57/100\n",
            "45/45 [==============================] - 0s 11ms/step - loss: 0.0154 - accuracy: 0.9960 - val_loss: 0.1334 - val_accuracy: 0.9640\n",
            "Epoch 58/100\n",
            "45/45 [==============================] - 0s 11ms/step - loss: 0.0146 - accuracy: 0.9938 - val_loss: 0.1299 - val_accuracy: 0.9640\n",
            "Epoch 59/100\n",
            "45/45 [==============================] - 0s 11ms/step - loss: 0.0072 - accuracy: 0.9997 - val_loss: 0.1307 - val_accuracy: 0.9682\n",
            "Epoch 60/100\n",
            "45/45 [==============================] - 0s 10ms/step - loss: 0.0144 - accuracy: 0.9948 - val_loss: 0.1632 - val_accuracy: 0.9597\n",
            "Epoch 61/100\n",
            "45/45 [==============================] - 0s 10ms/step - loss: 0.0149 - accuracy: 0.9943 - val_loss: 0.1551 - val_accuracy: 0.9619\n",
            "Epoch 62/100\n",
            "45/45 [==============================] - 0s 10ms/step - loss: 0.0070 - accuracy: 0.9999 - val_loss: 0.1433 - val_accuracy: 0.9576\n",
            "Epoch 63/100\n",
            "45/45 [==============================] - 0s 11ms/step - loss: 0.0158 - accuracy: 0.9957 - val_loss: 0.1386 - val_accuracy: 0.9597\n",
            "Epoch 64/100\n",
            "45/45 [==============================] - 0s 11ms/step - loss: 0.0099 - accuracy: 0.9985 - val_loss: 0.1398 - val_accuracy: 0.9555\n",
            "Epoch 65/100\n",
            "45/45 [==============================] - 0s 11ms/step - loss: 0.0051 - accuracy: 1.0000 - val_loss: 0.1490 - val_accuracy: 0.9555\n",
            "Epoch 66/100\n",
            "45/45 [==============================] - 0s 10ms/step - loss: 0.0122 - accuracy: 0.9928 - val_loss: 0.1422 - val_accuracy: 0.9576\n",
            "Epoch 67/100\n",
            "45/45 [==============================] - 0s 11ms/step - loss: 0.0120 - accuracy: 0.9960 - val_loss: 0.1459 - val_accuracy: 0.9576\n",
            "Epoch 68/100\n",
            "45/45 [==============================] - 0s 11ms/step - loss: 0.0140 - accuracy: 0.9957 - val_loss: 0.1417 - val_accuracy: 0.9640\n",
            "Epoch 69/100\n",
            "45/45 [==============================] - 0s 11ms/step - loss: 0.0055 - accuracy: 0.9998 - val_loss: 0.1365 - val_accuracy: 0.9640\n",
            "Epoch 70/100\n",
            "45/45 [==============================] - 0s 11ms/step - loss: 0.0047 - accuracy: 0.9990 - val_loss: 0.1407 - val_accuracy: 0.9640\n",
            "Epoch 71/100\n",
            "45/45 [==============================] - 0s 11ms/step - loss: 0.0066 - accuracy: 0.9993 - val_loss: 0.1533 - val_accuracy: 0.9555\n",
            "Epoch 72/100\n",
            "45/45 [==============================] - 0s 11ms/step - loss: 0.0161 - accuracy: 0.9947 - val_loss: 0.1742 - val_accuracy: 0.9492\n",
            "Epoch 73/100\n",
            "45/45 [==============================] - 0s 10ms/step - loss: 0.0199 - accuracy: 0.9949 - val_loss: 0.1551 - val_accuracy: 0.9597\n",
            "Epoch 74/100\n",
            "45/45 [==============================] - 0s 10ms/step - loss: 0.0087 - accuracy: 0.9966 - val_loss: 0.1472 - val_accuracy: 0.9640\n",
            "Epoch 75/100\n",
            "45/45 [==============================] - 0s 11ms/step - loss: 0.0048 - accuracy: 0.9995 - val_loss: 0.1321 - val_accuracy: 0.9661\n",
            "Epoch 76/100\n",
            "45/45 [==============================] - 0s 11ms/step - loss: 0.0077 - accuracy: 0.9980 - val_loss: 0.1337 - val_accuracy: 0.9682\n",
            "Epoch 77/100\n",
            "45/45 [==============================] - 0s 11ms/step - loss: 0.0026 - accuracy: 1.0000 - val_loss: 0.1393 - val_accuracy: 0.9661\n",
            "Epoch 78/100\n",
            "45/45 [==============================] - 0s 11ms/step - loss: 0.0042 - accuracy: 0.9983 - val_loss: 0.1501 - val_accuracy: 0.9661\n",
            "Epoch 79/100\n",
            "45/45 [==============================] - 0s 10ms/step - loss: 0.0051 - accuracy: 0.9991 - val_loss: 0.1613 - val_accuracy: 0.9597\n",
            "Epoch 80/100\n",
            "45/45 [==============================] - 0s 10ms/step - loss: 0.0121 - accuracy: 0.9969 - val_loss: 0.1564 - val_accuracy: 0.9597\n",
            "Epoch 81/100\n",
            "45/45 [==============================] - 0s 10ms/step - loss: 0.0046 - accuracy: 0.9999 - val_loss: 0.1272 - val_accuracy: 0.9576\n",
            "Epoch 82/100\n",
            "45/45 [==============================] - 0s 10ms/step - loss: 0.0059 - accuracy: 0.9985 - val_loss: 0.1638 - val_accuracy: 0.9619\n",
            "Epoch 83/100\n",
            "45/45 [==============================] - 0s 10ms/step - loss: 0.0037 - accuracy: 1.0000 - val_loss: 0.1437 - val_accuracy: 0.9725\n",
            "Epoch 84/100\n",
            "45/45 [==============================] - 0s 10ms/step - loss: 0.0071 - accuracy: 0.9996 - val_loss: 0.1489 - val_accuracy: 0.9597\n",
            "Epoch 85/100\n",
            "45/45 [==============================] - 0s 10ms/step - loss: 0.0043 - accuracy: 1.0000 - val_loss: 0.1580 - val_accuracy: 0.9619\n",
            "Epoch 86/100\n",
            "45/45 [==============================] - 0s 10ms/step - loss: 0.0046 - accuracy: 1.0000 - val_loss: 0.1520 - val_accuracy: 0.9619\n",
            "Epoch 87/100\n",
            "45/45 [==============================] - 0s 10ms/step - loss: 0.0040 - accuracy: 0.9985 - val_loss: 0.1809 - val_accuracy: 0.9576\n",
            "Epoch 88/100\n",
            "45/45 [==============================] - 0s 10ms/step - loss: 0.0065 - accuracy: 0.9978 - val_loss: 0.1536 - val_accuracy: 0.9534\n",
            "Epoch 89/100\n",
            "45/45 [==============================] - 0s 10ms/step - loss: 0.0067 - accuracy: 0.9992 - val_loss: 0.1646 - val_accuracy: 0.9576\n",
            "Epoch 90/100\n",
            "45/45 [==============================] - 0s 11ms/step - loss: 0.0065 - accuracy: 0.9992 - val_loss: 0.1391 - val_accuracy: 0.9576\n",
            "Epoch 91/100\n",
            "45/45 [==============================] - 0s 11ms/step - loss: 0.0121 - accuracy: 0.9951 - val_loss: 0.1639 - val_accuracy: 0.9513\n",
            "Epoch 92/100\n",
            "45/45 [==============================] - 0s 11ms/step - loss: 0.0085 - accuracy: 0.9976 - val_loss: 0.1613 - val_accuracy: 0.9576\n",
            "Epoch 93/100\n",
            "45/45 [==============================] - 0s 10ms/step - loss: 0.0072 - accuracy: 0.9982 - val_loss: 0.1282 - val_accuracy: 0.9661\n",
            "Epoch 94/100\n",
            "45/45 [==============================] - 0s 11ms/step - loss: 0.0063 - accuracy: 0.9981 - val_loss: 0.1478 - val_accuracy: 0.9576\n",
            "Epoch 95/100\n",
            "45/45 [==============================] - 0s 11ms/step - loss: 0.0129 - accuracy: 0.9972 - val_loss: 0.2001 - val_accuracy: 0.9470\n",
            "Epoch 96/100\n",
            "45/45 [==============================] - 0s 10ms/step - loss: 0.0127 - accuracy: 0.9982 - val_loss: 0.1201 - val_accuracy: 0.9746\n",
            "Epoch 97/100\n",
            "45/45 [==============================] - 0s 10ms/step - loss: 0.0123 - accuracy: 0.9953 - val_loss: 0.1631 - val_accuracy: 0.9492\n"
          ],
          "name": "stdout"
        }
      ]
    },
    {
      "cell_type": "code",
      "metadata": {
        "colab": {
          "base_uri": "https://localhost:8080/"
        },
        "id": "BGzk2_xSLkhD",
        "outputId": "bfae6eda-5813-4ee0-fd25-a8f4ae9406dd"
      },
      "source": [
        "model.evaluate(X_test, y_test)"
      ],
      "execution_count": 61,
      "outputs": [
        {
          "output_type": "stream",
          "text": [
            "20/20 [==============================] - 0s 7ms/step - loss: 0.1427 - accuracy: 0.9634\n"
          ],
          "name": "stdout"
        },
        {
          "output_type": "execute_result",
          "data": {
            "text/plain": [
              "[0.14266391098499298, 0.9634340405464172]"
            ]
          },
          "metadata": {
            "tags": []
          },
          "execution_count": 61
        }
      ]
    },
    {
      "cell_type": "code",
      "metadata": {
        "colab": {
          "base_uri": "https://localhost:8080/"
        },
        "id": "CZWCXM1BNxak",
        "outputId": "2c9b103b-dd19-4bca-f717-01846f15ee45"
      },
      "source": [
        "tf.keras.models.save_model()"
      ],
      "execution_count": 67,
      "outputs": [
        {
          "output_type": "stream",
          "text": [
            "INFO:tensorflow:Assets written to: C:\\Users\\krith\\Desktop\\Signlate\\model/assets\n"
          ],
          "name": "stdout"
        }
      ]
    },
    {
      "cell_type": "code",
      "metadata": {
        "colab": {
          "base_uri": "https://localhost:8080/"
        },
        "id": "Ca13mkmfSicr",
        "outputId": "8ec88a47-6283-49f5-d96e-73626431479e"
      },
      "source": [
        "max(history.history['val_accuracy'])"
      ],
      "execution_count": 65,
      "outputs": [
        {
          "output_type": "execute_result",
          "data": {
            "text/plain": [
              "0.9745762944221497"
            ]
          },
          "metadata": {
            "tags": []
          },
          "execution_count": 65
        }
      ]
    },
    {
      "cell_type": "code",
      "metadata": {
        "id": "v_DLQBZkcUEx"
      },
      "source": [
        "file_path = r\"./content/C:\\Users\\krith\\Desktop\\Signlate\\model\""
      ],
      "execution_count": 77,
      "outputs": []
    },
    {
      "cell_type": "code",
      "metadata": {
        "colab": {
          "base_uri": "https://localhost:8080/",
          "height": 346
        },
        "id": "hhAxKf5lXM8J",
        "outputId": "a5a6f514-1f7d-4331-dbde-acf914da290d"
      },
      "source": [
        "loaded_model = tf.keras.models.load_model(file_path)"
      ],
      "execution_count": 75,
      "outputs": [
        {
          "output_type": "error",
          "ename": "OSError",
          "evalue": "ignored",
          "traceback": [
            "\u001b[0;31m---------------------------------------------------------------------------\u001b[0m",
            "\u001b[0;31mOSError\u001b[0m                                   Traceback (most recent call last)",
            "\u001b[0;32m<ipython-input-75-132843977162>\u001b[0m in \u001b[0;36m<module>\u001b[0;34m()\u001b[0m\n\u001b[0;32m----> 1\u001b[0;31m \u001b[0mloaded_model\u001b[0m \u001b[0;34m=\u001b[0m \u001b[0mtf\u001b[0m\u001b[0;34m.\u001b[0m\u001b[0mkeras\u001b[0m\u001b[0;34m.\u001b[0m\u001b[0mmodels\u001b[0m\u001b[0;34m.\u001b[0m\u001b[0mload_model\u001b[0m\u001b[0;34m(\u001b[0m\u001b[0mfile_path\u001b[0m\u001b[0;34m)\u001b[0m\u001b[0;34m\u001b[0m\u001b[0;34m\u001b[0m\u001b[0m\n\u001b[0m",
            "\u001b[0;32m/usr/local/lib/python3.7/dist-packages/tensorflow/python/keras/saving/save.py\u001b[0m in \u001b[0;36mload_model\u001b[0;34m(filepath, custom_objects, compile, options)\u001b[0m\n\u001b[1;32m    209\u001b[0m       \u001b[0mfilepath\u001b[0m \u001b[0;34m=\u001b[0m \u001b[0mpath_to_string\u001b[0m\u001b[0;34m(\u001b[0m\u001b[0mfilepath\u001b[0m\u001b[0;34m)\u001b[0m\u001b[0;34m\u001b[0m\u001b[0;34m\u001b[0m\u001b[0m\n\u001b[1;32m    210\u001b[0m       \u001b[0;32mif\u001b[0m \u001b[0misinstance\u001b[0m\u001b[0;34m(\u001b[0m\u001b[0mfilepath\u001b[0m\u001b[0;34m,\u001b[0m \u001b[0msix\u001b[0m\u001b[0;34m.\u001b[0m\u001b[0mstring_types\u001b[0m\u001b[0;34m)\u001b[0m\u001b[0;34m:\u001b[0m\u001b[0;34m\u001b[0m\u001b[0;34m\u001b[0m\u001b[0m\n\u001b[0;32m--> 211\u001b[0;31m         \u001b[0mloader_impl\u001b[0m\u001b[0;34m.\u001b[0m\u001b[0mparse_saved_model\u001b[0m\u001b[0;34m(\u001b[0m\u001b[0mfilepath\u001b[0m\u001b[0;34m)\u001b[0m\u001b[0;34m\u001b[0m\u001b[0;34m\u001b[0m\u001b[0m\n\u001b[0m\u001b[1;32m    212\u001b[0m         \u001b[0;32mreturn\u001b[0m \u001b[0msaved_model_load\u001b[0m\u001b[0;34m.\u001b[0m\u001b[0mload\u001b[0m\u001b[0;34m(\u001b[0m\u001b[0mfilepath\u001b[0m\u001b[0;34m,\u001b[0m \u001b[0mcompile\u001b[0m\u001b[0;34m,\u001b[0m \u001b[0moptions\u001b[0m\u001b[0;34m)\u001b[0m\u001b[0;34m\u001b[0m\u001b[0;34m\u001b[0m\u001b[0m\n\u001b[1;32m    213\u001b[0m \u001b[0;34m\u001b[0m\u001b[0m\n",
            "\u001b[0;32m/usr/local/lib/python3.7/dist-packages/tensorflow/python/saved_model/loader_impl.py\u001b[0m in \u001b[0;36mparse_saved_model\u001b[0;34m(export_dir)\u001b[0m\n\u001b[1;32m    112\u001b[0m                   (export_dir,\n\u001b[1;32m    113\u001b[0m                    \u001b[0mconstants\u001b[0m\u001b[0;34m.\u001b[0m\u001b[0mSAVED_MODEL_FILENAME_PBTXT\u001b[0m\u001b[0;34m,\u001b[0m\u001b[0;34m\u001b[0m\u001b[0;34m\u001b[0m\u001b[0m\n\u001b[0;32m--> 114\u001b[0;31m                    constants.SAVED_MODEL_FILENAME_PB))\n\u001b[0m\u001b[1;32m    115\u001b[0m \u001b[0;34m\u001b[0m\u001b[0m\n\u001b[1;32m    116\u001b[0m \u001b[0;34m\u001b[0m\u001b[0m\n",
            "\u001b[0;31mOSError\u001b[0m: SavedModel file does not exist at: ./content/C:\\Users\\krith\\Desktop\\Signlate\\model/{saved_model.pbtxt|saved_model.pb}"
          ]
        }
      ]
    }
  ]
}