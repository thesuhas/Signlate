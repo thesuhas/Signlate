{
 "metadata": {
  "language_info": {
   "codemirror_mode": {
    "name": "ipython",
    "version": 3
   },
   "file_extension": ".py",
   "mimetype": "text/x-python",
   "name": "python",
   "nbconvert_exporter": "python",
   "pygments_lexer": "ipython3",
   "version": "3.8.5-final"
  },
  "orig_nbformat": 2,
  "kernelspec": {
   "name": "python3",
   "display_name": "Python 3.8.5 64-bit ('base': conda)",
   "metadata": {
    "interpreter": {
     "hash": "856418670dd04c5e265467d5400639c8275fa4ff1ddf9eb7481f8b7f6558ac1a"
    }
   }
  }
 },
 "nbformat": 4,
 "nbformat_minor": 2,
 "cells": [
  {
   "cell_type": "code",
   "execution_count": 3,
   "metadata": {},
   "outputs": [],
   "source": [
    "import pandas as pd\n",
    "import numpy as np\n",
    "import cv2\n",
    "import tensorflow as tf\n",
    "from tensorflow import keras\n",
    "from tensorflow.keras import layers\n",
    "from tensorflow.keras.models import Sequential\n",
    "import matplotlib.pyplot as plt\n",
    "from matplotlib.pyplot import imshow\n",
    "from sklearn.model_selection import train_test_split\n",
    "import os"
   ]
  },
  {
   "cell_type": "code",
   "execution_count": 20,
   "metadata": {},
   "outputs": [],
   "source": [
    "training_set_path = \"archive/asl_alphabet_train\"\n",
    "testing_set_path = \"/Users/divyashekar/Documents/Signlate/archive/asl_alphabet_test/asl_alphabet_test\""
   ]
  },
  {
   "cell_type": "code",
   "execution_count": 7,
   "metadata": {},
   "outputs": [],
   "source": [
    "IMAGE_SIZE = 100\n",
    "num_classes = 28\n",
    "epochs = 100\n",
    "initializer = 'he_normal'"
   ]
  },
  {
   "cell_type": "code",
   "execution_count": 22,
   "metadata": {},
   "outputs": [],
   "source": [
    "def label(folder_name):\n",
    "    num = folder_name\n",
    "    if 'space' in num:\n",
    "        return 0\n",
    "    elif 'A' in num:\n",
    "        return 1 \n",
    "    elif 'B' in num:\n",
    "        return 2\n",
    "    elif 'C' in num:\n",
    "        return 3\n",
    "    elif 'D' in num:\n",
    "        return 4\n",
    "    elif 'E' in num:\n",
    "        return 5\n",
    "    elif 'F' in num:\n",
    "        return 6\n",
    "    elif 'G' in num:\n",
    "        return 7\n",
    "    elif 'H' in num:\n",
    "        return 8\n",
    "    elif 'I' in num:\n",
    "        return 9\n",
    "    elif 'J' in num:\n",
    "        return 10\n",
    "    elif 'K' in num:\n",
    "        return 11\n",
    "    elif 'L' in num:\n",
    "        return 12\n",
    "    elif 'M' in num:\n",
    "        return 13\n",
    "    elif 'N' in num:\n",
    "        return 14\n",
    "    elif 'O' in num:\n",
    "        return 15\n",
    "    elif 'P' in num:\n",
    "        return 16\n",
    "    elif 'Q' in num:\n",
    "        return 17\n",
    "    elif 'R' in num:\n",
    "        return 18\n",
    "    elif 'S' in num:\n",
    "        return 19\n",
    "    elif 'T' in num:\n",
    "        return 20\n",
    "    elif 'U' in num:\n",
    "        return 21\n",
    "    elif 'V' in num:\n",
    "        return 22\n",
    "    elif 'W' in num:\n",
    "        return 23\n",
    "    elif 'X' in num:\n",
    "        return 24\n",
    "    elif 'Y' in num:\n",
    "        return 25\n",
    "    elif 'Z' in num:\n",
    "        return 26\n",
    "    elif 'del' in num:\n",
    "        return 27\n",
    "    elif 'nothing' in num:\n",
    "        return 28"
   ]
  },
  {
   "source": [
    "CREATING DATASET"
   ],
   "cell_type": "markdown",
   "metadata": {}
  },
  {
   "cell_type": "code",
   "execution_count": 18,
   "metadata": {},
   "outputs": [],
   "source": [
    "def create_dataset(path):\n",
    "    data = []\n",
    "    for folder in os.scandir(path):\n",
    "        for image in os.scandir(os.path.join(path, folder)):\n",
    "            letter_label = label(folder.name)\n",
    "            if (letter_label == None):\n",
    "                print(folder.name)\n",
    "                break\n",
    "            img = cv2.imread(os.path.join(path, folder, image))\n",
    "\n",
    "            # Resize\n",
    "            new = cv2.resize(img, (IMAGE_SIZE, IMAGE_SIZE))\n",
    "            data.append([new, letter_label])\n",
    "    return data"
   ]
  },
  {
   "cell_type": "code",
   "execution_count": 23,
   "metadata": {},
   "outputs": [
    {
     "output_type": "error",
     "ename": "FileNotFoundError",
     "evalue": "[Errno 2] No such file or directory: 'archive/asl_alphabet_train/archive/asl_alphabet_train/.DS_Store'",
     "traceback": [
      "\u001b[0;31m---------------------------------------------------------------------------\u001b[0m",
      "\u001b[0;31mFileNotFoundError\u001b[0m                         Traceback (most recent call last)",
      "\u001b[0;32m<ipython-input-23-61a8427e648a>\u001b[0m in \u001b[0;36m<module>\u001b[0;34m\u001b[0m\n\u001b[0;32m----> 1\u001b[0;31m \u001b[0mdata\u001b[0m \u001b[0;34m=\u001b[0m \u001b[0mcreate_dataset\u001b[0m\u001b[0;34m(\u001b[0m\u001b[0mtraining_set_path\u001b[0m\u001b[0;34m)\u001b[0m\u001b[0;34m\u001b[0m\u001b[0;34m\u001b[0m\u001b[0m\n\u001b[0m\u001b[1;32m      2\u001b[0m \u001b[0mdata\u001b[0m\u001b[0;34m\u001b[0m\u001b[0;34m\u001b[0m\u001b[0m\n",
      "\u001b[0;32m<ipython-input-18-8aa565dd0ce4>\u001b[0m in \u001b[0;36mcreate_dataset\u001b[0;34m(path)\u001b[0m\n\u001b[1;32m      2\u001b[0m     \u001b[0mdata\u001b[0m \u001b[0;34m=\u001b[0m \u001b[0;34m[\u001b[0m\u001b[0;34m]\u001b[0m\u001b[0;34m\u001b[0m\u001b[0;34m\u001b[0m\u001b[0m\n\u001b[1;32m      3\u001b[0m     \u001b[0;32mfor\u001b[0m \u001b[0mfolder\u001b[0m \u001b[0;32min\u001b[0m \u001b[0mos\u001b[0m\u001b[0;34m.\u001b[0m\u001b[0mscandir\u001b[0m\u001b[0;34m(\u001b[0m\u001b[0mpath\u001b[0m\u001b[0;34m)\u001b[0m\u001b[0;34m:\u001b[0m\u001b[0;34m\u001b[0m\u001b[0;34m\u001b[0m\u001b[0m\n\u001b[0;32m----> 4\u001b[0;31m         \u001b[0;32mfor\u001b[0m \u001b[0mimage\u001b[0m \u001b[0;32min\u001b[0m \u001b[0mos\u001b[0m\u001b[0;34m.\u001b[0m\u001b[0mscandir\u001b[0m\u001b[0;34m(\u001b[0m\u001b[0mos\u001b[0m\u001b[0;34m.\u001b[0m\u001b[0mpath\u001b[0m\u001b[0;34m.\u001b[0m\u001b[0mjoin\u001b[0m\u001b[0;34m(\u001b[0m\u001b[0mpath\u001b[0m\u001b[0;34m,\u001b[0m \u001b[0mfolder\u001b[0m\u001b[0;34m)\u001b[0m\u001b[0;34m)\u001b[0m\u001b[0;34m:\u001b[0m\u001b[0;34m\u001b[0m\u001b[0;34m\u001b[0m\u001b[0m\n\u001b[0m\u001b[1;32m      5\u001b[0m             \u001b[0mletter_label\u001b[0m \u001b[0;34m=\u001b[0m \u001b[0mlabel\u001b[0m\u001b[0;34m(\u001b[0m\u001b[0mfolder\u001b[0m\u001b[0;34m.\u001b[0m\u001b[0mname\u001b[0m\u001b[0;34m)\u001b[0m\u001b[0;34m\u001b[0m\u001b[0;34m\u001b[0m\u001b[0m\n\u001b[1;32m      6\u001b[0m             \u001b[0;32mif\u001b[0m \u001b[0;34m(\u001b[0m\u001b[0mletter_label\u001b[0m \u001b[0;34m==\u001b[0m \u001b[0;32mNone\u001b[0m\u001b[0;34m)\u001b[0m\u001b[0;34m:\u001b[0m\u001b[0;34m\u001b[0m\u001b[0;34m\u001b[0m\u001b[0m\n",
      "\u001b[0;31mFileNotFoundError\u001b[0m: [Errno 2] No such file or directory: 'archive/asl_alphabet_train/archive/asl_alphabet_train/.DS_Store'"
     ]
    }
   ],
   "source": [
    "data = create_dataset(training_set_path)\n",
    "data"
   ]
  },
  {
   "cell_type": "code",
   "execution_count": null,
   "metadata": {},
   "outputs": [],
   "source": []
  }
 ]
}